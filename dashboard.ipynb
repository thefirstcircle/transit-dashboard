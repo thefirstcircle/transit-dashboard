{
 "cells": [
  {
   "cell_type": "code",
   "execution_count": null,
   "metadata": {},
   "outputs": [],
   "source": [
    "import pandas as pd\n",
    "\n",
    "#steve-report is a recording of my shifts to-date. routes.csv is all routes from Google GTFS\n",
    "driver_report = pd.read_csv('steve-report.csv')\n",
    "routes = pd.read_csv('routes.csv')"
   ]
  },
  {
   "cell_type": "code",
   "execution_count": null,
   "metadata": {},
   "outputs": [],
   "source": [
    "count = routes['route_id'].value_counts()"
   ]
  },
  {
   "cell_type": "code",
   "execution_count": null,
   "metadata": {},
   "outputs": [],
   "source": [
    "driver_report.route = driver_report['route'].astype('Int64').astype('str')\n",
    "routes['route_id'] = routes['route_id'].astype('str')"
   ]
  },
  {
   "cell_type": "code",
   "execution_count": null,
   "metadata": {},
   "outputs": [],
   "source": [
    "#Working - do not touchhhh\n",
    "df = pd.merge(driver_report, routes, left_on='route', right_on='route_id')\n",
    "df.to_csv('results.csv')"
   ]
  },
  {
   "cell_type": "code",
   "execution_count": null,
   "metadata": {},
   "outputs": [],
   "source": [
    "#Optional: finding shifts by time of day\n",
    "#pre-2014 legacy bus shift naming convention not captured here.\n",
    "\n",
    "am_shifts = '^[0-9]{2}-[0-9] AM(.*)$'\n",
    "mid_shifts = '^[0-9]{2}-[0-9] MID(.*)$'\n",
    "pm_shifts = '^[0-9]{2}-[0-9] PM(.*)$'\n",
    "pm2_shifts = '^[0-9]{2}-[0-9] PM2(.*)$'\n",
    "eve_shifts = '^[0-9]{2}-[0-9] EVE(.*)$'\n",
    "\n",
    "#this gives me a rudimentary way of seeing what shifts I did in morning, afternoon, and evening blocks. For example:\n",
    "#print(driver_report[driver_report.shiftname.str.contains(mid_shifts)])\n",
    "\n",
    "#driver_report[driver_report.shiftname.str.contains(mid_shifts)]\n",
    "\n",
    "#I can join these regexes together and see all shifts:\n",
    "allshifts = [am_shifts, mid_shifts, pm_shifts, pm2_shifts, eve_shifts]\n",
    "pattern = ('|'.join(allshifts))\n",
    "print(df[df.shiftname.str.contains(pattern)])\n"
   ]
  },
  {
   "cell_type": "code",
   "execution_count": null,
   "metadata": {},
   "outputs": [],
   "source": [
    "import folium\n",
    "\n",
    "#Starts Folium centered on Amherst MA:\n",
    "folium_map = folium.Map(location=[42.375968582346225, -72.520124958991],\n",
    "                    zoom_start = 13) \n",
    "folium_map"
   ]
  },
  {
   "cell_type": "code",
   "execution_count": null,
   "metadata": {},
   "outputs": [],
   "source": [
    "#The GEOJSON file has a \"FeatureCollection\" with \"Features\" inside of it.\n",
    "#Each \"feature\" has a property equal to the bus route.\n",
    "#Example: \"properties\": {\"route_id\": \"30\"}},\n",
    "\n",
    "#Approaches:\n",
    "#Add property for times driven to feature.property?\n",
    "#Create new geojson files for later import into Leaflet/Folium? One per layer?\n",
    "#Adjust script so that is done earlier?\n"
   ]
  },
  {
   "cell_type": "code",
   "execution_count": null,
   "metadata": {},
   "outputs": [],
   "source": [
    "import json\n",
    "\n",
    "route_shapes = './route_shapes.geojson'\n",
    "\n",
    "folium.GeoJson(route_shapes, name=\"geojson\").add_to(folium_map)\n",
    "\n",
    "folium.LayerControl().add_to(folium_map)\n",
    "\n",
    "folium_map\n"
   ]
  },
  {
   "cell_type": "code",
   "execution_count": null,
   "metadata": {},
   "outputs": [],
   "source": [
    "from geojsplit import geojsplit\n",
    "\n",
    "geojson = geojsplit.GeoJSONBatchStreamer(\"./route_shapes.geojson\")\n",
    "\n",
    "for features in geojson.stream():\n",
    "    for feature in features:\n",
    "        print('properties')"
   ]
  }
 ],
 "metadata": {
  "interpreter": {
   "hash": "e501af7669daf9271c301314411bb9a51921c14e517f9e774147a449b74aabf4"
  },
  "kernelspec": {
   "display_name": "Python 3.9.10 ('.venv_transit': venv)",
   "language": "python",
   "name": "python3"
  },
  "language_info": {
   "codemirror_mode": {
    "name": "ipython",
    "version": 3
   },
   "file_extension": ".py",
   "mimetype": "text/x-python",
   "name": "python",
   "nbconvert_exporter": "python",
   "pygments_lexer": "ipython3",
   "version": "3.9.10"
  },
  "orig_nbformat": 4
 },
 "nbformat": 4,
 "nbformat_minor": 2
}
