{
 "cells": [
  {
   "cell_type": "code",
   "execution_count": null,
   "metadata": {},
   "outputs": [],
   "source": [
    "import pandas as pd\n",
    "\n",
    "#steve-report is a recording of my shifts to-date. routes.csv is all routes from Google GTFS\n",
    "driver_report = pd.read_csv('steve-report.csv')\n",
    "routes = pd.read_csv('routes.csv')"
   ]
  },
  {
   "cell_type": "code",
   "execution_count": null,
   "metadata": {},
   "outputs": [],
   "source": [
    "driver_report.route = driver_report['route'].astype('Int64').astype('str')\n",
    "routes['route_id'] = routes['route_id'].astype('str')"
   ]
  },
  {
   "cell_type": "code",
   "execution_count": null,
   "metadata": {},
   "outputs": [],
   "source": [
    "#Routes need to be changed to strip 39E of its character\n",
    "#Regex: ( ) = capture group, \\d = shorthand character class, same as [0-9], + = one or more expression\n",
    "routes['route_id'] = routes['route_id'].str.extract('(\\d+)', expand=False)"
   ]
  },
  {
   "cell_type": "code",
   "execution_count": null,
   "metadata": {},
   "outputs": [],
   "source": [
    "#Working - do not touchhhh\n",
    "df = pd.merge(driver_report, routes, left_on='route', right_on='route_id')\n",
    "df.to_csv('results.csv')"
   ]
  },
  {
   "cell_type": "code",
   "execution_count": null,
   "metadata": {},
   "outputs": [],
   "source": [
    "#get sum of hours for each route\n",
    "df.length.astype('float64')\n",
    "df_grp = df.groupby(['route_long_name', 'route_id'])['length'].sum().reset_index()"
   ]
  },
  {
   "cell_type": "code",
   "execution_count": null,
   "metadata": {},
   "outputs": [],
   "source": [
    "#total hours spent driving per shift\n",
    "import seaborn as sns\n",
    "ax2 = sns.barplot(x=\"length\", y=\"route_long_name\", data=df_grp)"
   ]
  },
  {
   "cell_type": "code",
   "execution_count": 76,
   "metadata": {},
   "outputs": [],
   "source": [
    "#Need to ignore errors because military time exceeds 23:59\n",
    "#errors='ignore' gives just the time\n",
    "#errors='coerce' gives the right output but also adds the day, which i don't want\n",
    "df['start time'] = pd.to_datetime(df['start time'], errors='ignore')\n",
    "df['end time'] = pd.to_datetime(df['end time'], errors='ignore')\n",
    "df['date'] = pd.to_datetime(df['date'])"
   ]
  },
  {
   "cell_type": "code",
   "execution_count": 93,
   "metadata": {},
   "outputs": [
    {
     "data": {
      "text/plain": [
       "datetime.datetime(1900, 1, 1, 16, 10)"
      ]
     },
     "execution_count": 93,
     "metadata": {},
     "output_type": "execute_result"
    }
   ],
   "source": [
    "from datetime import datetime\n",
    "\n",
    "#df['start time']\n",
    "\n",
    "date_time_obj = datetime.strptime(\"16:10\", '%H:%M')\n",
    "\n",
    "date_time_obj\n",
    "\n",
    "#This may be a workaround to the datetime issue"
   ]
  },
  {
   "cell_type": "code",
   "execution_count": null,
   "metadata": {},
   "outputs": [],
   "source": [
    "#regex for shift_type\n",
    "am_shifts = '^(.*)AM(.*)$'\n",
    "mid_shifts = '^(.*)MID(.*)$'\n",
    "pm_shifts = '^(.*)PM(.*)$'\n",
    "pm2_shifts = '^(.*)PM2(.*)$'\n",
    "eve_shifts = '^(.*)EVE(.*)$'"
   ]
  },
  {
   "cell_type": "code",
   "execution_count": null,
   "metadata": {},
   "outputs": [],
   "source": [
    "#calculated column\n",
    "\n",
    "df.loc[df['shiftname'].str.contains(am_shifts), 'shift_type'] = 'AM'\n",
    "df.loc[df['shiftname'].str.contains(mid_shifts), 'shift_type'] = 'MID'\n",
    "df.loc[df['shiftname'].str.contains(pm_shifts), 'shift_type'] = 'PM'\n",
    "df.loc[df['shiftname'].str.contains(pm2_shifts), 'shift_type'] = 'PM2'\n",
    "df.loc[df['shiftname'].str.contains(eve_shifts), 'shift_type'] = 'EVE'"
   ]
  },
  {
   "cell_type": "code",
   "execution_count": null,
   "metadata": {},
   "outputs": [],
   "source": [
    "df[['date', 'start time']] = df[['date', 'start time']].apply(pd.to_datetime)"
   ]
  },
  {
   "cell_type": "code",
   "execution_count": null,
   "metadata": {},
   "outputs": [],
   "source": [
    "df"
   ]
  },
  {
   "cell_type": "code",
   "execution_count": null,
   "metadata": {},
   "outputs": [],
   "source": [
    "#Faceted area plot\n",
    "\n",
    "import plotly.express as px\n",
    "\n",
    "fig = px.bar(df, facet_col=\"route_long_name\", facet_col_wrap=2, x=df.date, y=df.length, color=df.shift_type, height=1400, width=1200, title=\"<b>Bus Shifts To Date <i>(zoom to expand)</i></b>\", labels=dict(length=\"Length (hours)\", shift_type=\"Shift Type\", route_long_name=\"Route\"))\n",
    "fig.update_layout(\n",
    "    title_font_family=\"Minion Pro\",\n",
    "    paper_bgcolor=\"#881c1c\",\n",
    "    font=dict(\n",
    "            family=\"Helvetica\",\n",
    "            size=20,\n",
    "            color=\"white\"\n",
    "        )\n",
    ")\n",
    "fig.show()\n",
    "\n",
    "df"
   ]
  },
  {
   "cell_type": "code",
   "execution_count": null,
   "metadata": {},
   "outputs": [],
   "source": [
    "#3d scatter\n",
    "\n",
    "import plotly.express as px\n",
    "\n",
    "fig = px.scatter_3d(df, x=df['route_id'], y=df['date'], z=df['length'])\n",
    "fig.show()"
   ]
  },
  {
   "cell_type": "code",
   "execution_count": null,
   "metadata": {},
   "outputs": [],
   "source": [
    "fig = px.timeline(df, x_start=\"start time\", x_end=\"end time\", y=\"date\")\n",
    "\n",
    "fig.show()"
   ]
  },
  {
   "cell_type": "code",
   "execution_count": null,
   "metadata": {},
   "outputs": [],
   "source": [
    "df['start time']"
   ]
  },
  {
   "cell_type": "code",
   "execution_count": null,
   "metadata": {},
   "outputs": [],
   "source": [
    "df['end time']"
   ]
  },
  {
   "cell_type": "code",
   "execution_count": null,
   "metadata": {},
   "outputs": [],
   "source": [
    "import folium\n",
    "\n",
    "#Starts Folium centered on Amherst MA:\n",
    "folium_map = folium.Map(location=[42.375968582346225, -72.520124958991],\n",
    "                    zoom_start = 13) \n",
    "folium_map"
   ]
  },
  {
   "cell_type": "code",
   "execution_count": null,
   "metadata": {},
   "outputs": [],
   "source": [
    "#The GEOJSON file has a \"FeatureCollection\" with \"Features\" inside of it.\n",
    "#Each \"feature\" has a property equal to the bus route.\n",
    "#Example: \"properties\": {\"route_id\": \"30\"}},\n",
    "\n",
    "#Approaches:\n",
    "#Add property for times driven to feature.property?\n",
    "#Create new geojson files for later import into Leaflet/Folium? One per layer?\n",
    "#Adjust script so that is done earlier?\n"
   ]
  },
  {
   "cell_type": "code",
   "execution_count": null,
   "metadata": {},
   "outputs": [],
   "source": [
    "import json\n",
    "\n",
    "route_shapes = './route_shapes.geojson'\n",
    "\n",
    "folium.GeoJson(route_shapes, name=\"geojson\").add_to(folium_map)\n",
    "\n",
    "folium.LayerControl().add_to(folium_map)\n",
    "\n",
    "folium_map\n"
   ]
  },
  {
   "cell_type": "code",
   "execution_count": null,
   "metadata": {},
   "outputs": [],
   "source": [
    "from geojsplit import geojsplit\n",
    "\n",
    "geojson = geojsplit.GeoJSONBatchStreamer(\"./route_shapes.geojson\")\n",
    "\n",
    "for features in geojson.stream():\n",
    "    for feature in features:\n",
    "        print('properties')"
   ]
  }
 ],
 "metadata": {
  "interpreter": {
   "hash": "e501af7669daf9271c301314411bb9a51921c14e517f9e774147a449b74aabf4"
  },
  "kernelspec": {
   "display_name": "Python 3.9.10 ('.venv_transit': venv)",
   "language": "python",
   "name": "python3"
  },
  "language_info": {
   "codemirror_mode": {
    "name": "ipython",
    "version": 3
   },
   "file_extension": ".py",
   "mimetype": "text/x-python",
   "name": "python",
   "nbconvert_exporter": "python",
   "pygments_lexer": "ipython3",
   "version": "3.10.4"
  },
  "orig_nbformat": 4
 },
 "nbformat": 4,
 "nbformat_minor": 2
}
