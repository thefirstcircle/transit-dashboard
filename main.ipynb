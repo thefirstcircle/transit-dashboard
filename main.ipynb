{
 "cells": [
  {
   "cell_type": "code",
   "execution_count": 180,
   "metadata": {},
   "outputs": [
    {
     "name": "stdout",
     "output_type": "stream",
     "text": [
      "            shiftname start time  end time  length        date  route  \\\n",
      "0           UCREW3EVE      19:30     21:30    2.00  2014-01-20    NaN   \n",
      "1                  30   18:30:00  21:30:00    3.00  2014-01-24    NaN   \n",
      "2              UCREW4   18:30:00  21:30:00    3.00  2014-01-27    NaN   \n",
      "3             Trainee      10:02     11:27    1.50  2014-01-13    NaN   \n",
      "4                Fees      12:00     17:45    5.75  2014-01-12    NaN   \n",
      "...               ...        ...       ...     ...         ...    ...   \n",
      "1363  31-3 PM1 Part 2      15:00     15:06    0.00  2018-05-08   31.0   \n",
      "1364   33-2 AM Part 1       7:21      8:51    1.50  2018-05-10   33.0   \n",
      "1365     Service Work       6:59      8:34    1.50  2018-05-25    NaN   \n",
      "1366   36-1 AM Part 2       8:47     10:15    1.50  2018-06-08   36.0   \n",
      "1367   36-1 AM Part 3      10:15     10:17    0.00  2018-06-08   36.0   \n",
      "\n",
      "     department  \n",
      "0       Service  \n",
      "1       Service  \n",
      "2       Service  \n",
      "3      Training  \n",
      "4      Training  \n",
      "...         ...  \n",
      "1363        Bus  \n",
      "1364        Bus  \n",
      "1365    Service  \n",
      "1366        Bus  \n",
      "1367        Bus  \n",
      "\n",
      "[1368 rows x 7 columns]\n"
     ]
    }
   ],
   "source": [
    "import pandas as pd\n",
    "\n",
    "#steve-report is a recording of my shifts to-date. routes.csv is all routes from Google GTFS\n",
    "driver_report = pd.read_csv('steve-report.csv')\n",
    "routes = pd.read_csv('routes.csv')\n",
    "#print(routes)\n",
    "print(driver_report)"
   ]
  },
  {
   "cell_type": "code",
   "execution_count": 187,
   "metadata": {},
   "outputs": [
    {
     "name": "stderr",
     "output_type": "stream",
     "text": [
      "/var/folders/gt/yj438g6s03dchf7qmhfj45640000gn/T/ipykernel_42498/1005083215.py:3: FutureWarning: The default value of regex will change from True to False in a future version.\n",
      "  driver_report['route'] = driver_report.route.str.replace('.0', ' ')\n"
     ]
    }
   ],
   "source": [
    "#remove decimal and trailing zero from data (numpy and pandas require this)\n",
    "driver_report['route'] = driver_report.route.astype(str)\n",
    "driver_report['route'] = driver_report.route.str.replace('.0', ' ')\n",
    "\n",
    "#print (driver_report)\n",
    "\n",
    "#change the report column back to numbers so it can be compared to the other CSV:\n",
    "driver_report[\"route\"] = pd.to_numeric(driver_report[\"route\"], errors='ignore')\n",
    "#same with the Routes .csv:\n",
    "routes[\"route_id\"] = pd.to_numeric(routes[\"route_id\"], errors='ignore')\n"
   ]
  },
  {
   "cell_type": "code",
   "execution_count": 190,
   "metadata": {},
   "outputs": [
    {
     "name": "stderr",
     "output_type": "stream",
     "text": [
      "/var/folders/gt/yj438g6s03dchf7qmhfj45640000gn/T/ipykernel_42498/4027447413.py:16: UserWarning: This pattern is interpreted as a regular expression, and has match groups. To actually get the groups, use str.extract.\n",
      "  driver_report[driver_report.shiftname.str.contains(mid_shifts)]\n"
     ]
    },
    {
     "data": {
      "text/html": [
       "<div>\n",
       "<style scoped>\n",
       "    .dataframe tbody tr th:only-of-type {\n",
       "        vertical-align: middle;\n",
       "    }\n",
       "\n",
       "    .dataframe tbody tr th {\n",
       "        vertical-align: top;\n",
       "    }\n",
       "\n",
       "    .dataframe thead th {\n",
       "        text-align: right;\n",
       "    }\n",
       "</style>\n",
       "<table border=\"1\" class=\"dataframe\">\n",
       "  <thead>\n",
       "    <tr style=\"text-align: right;\">\n",
       "      <th></th>\n",
       "      <th>shiftname</th>\n",
       "      <th>start time</th>\n",
       "      <th>end time</th>\n",
       "      <th>length</th>\n",
       "      <th>date</th>\n",
       "      <th>route</th>\n",
       "      <th>department</th>\n",
       "    </tr>\n",
       "  </thead>\n",
       "  <tbody>\n",
       "  </tbody>\n",
       "</table>\n",
       "</div>"
      ],
      "text/plain": [
       "Empty DataFrame\n",
       "Columns: [shiftname, start time, end time, length, date, route, department]\n",
       "Index: []"
      ]
     },
     "execution_count": 190,
     "metadata": {},
     "output_type": "execute_result"
    }
   ],
   "source": [
    "#these work for exact match but not fuzzy match\n",
    "#print(routes[routes.route_id.isin(driver_report.route)])\n",
    "#print(driver_report[driver_report.route.isin(routes.route_id)])\n",
    "\n",
    "#pre-2014 legacy bus shift naming convention not captured here.\n",
    "\n",
    "am_shifts = '^[0-9]{2}-[0-9] AM(.*)$'\n",
    "mid_shifts = '^[0-9]{2}-[0-9] MID(.*)$'\n",
    "pm_shifts = '^[0-9]{2}-[0-9] PM(.*)$'\n",
    "pm2_shifts = '^[0-9]{2}-[0-9] PM2(.*)$'\n",
    "eve_shifts = '^[0-9]{2}-[0-9] EVE(.*)$'\n",
    "\n",
    "#this gives me a rudimentary way of seeing what shifts I did in morning, afternoon, and evening blocks. For example:\n",
    "#print(driver_report[driver_report.shiftname.str.contains(mid_shifts)])\n",
    "\n",
    "driver_report[driver_report.shiftname.str.contains(mid_shifts)]\n",
    "\n",
    "#I can join these regexes together and see all shifts:\n",
    "#allshifts = [am_shifts, mid_shifts, pm_shifts, pm2_shifts, eve_shifts]\n",
    "#pattern = ('|'.join(allshifts))\n",
    "#print(driver_report[driver_report.shiftname.str.contains(pattern)])\n",
    "\n",
    "#I can also just sort on \"bus\"\n",
    "\n"
   ]
  },
  {
   "cell_type": "code",
   "execution_count": 207,
   "metadata": {},
   "outputs": [
    {
     "name": "stderr",
     "output_type": "stream",
     "text": [
      "/var/folders/gt/yj438g6s03dchf7qmhfj45640000gn/T/ipykernel_42498/4160004002.py:7: UserWarning: This pattern is interpreted as a regular expression, and has match groups. To actually get the groups, use str.extract.\n",
      "  driver_report.length[driver_report.shiftname.str.contains(eve_shifts)].describe().max\n"
     ]
    },
    {
     "data": {
      "text/plain": [
       "<bound method NDFrame._add_numeric_operations.<locals>.max of count    45.000000\n",
       "mean      4.766667\n",
       "std       1.109617\n",
       "min       1.250000\n",
       "25%       4.250000\n",
       "50%       4.750000\n",
       "75%       5.750000\n",
       "max       7.250000\n",
       "Name: length, dtype: float64>"
      ]
     },
     "execution_count": 207,
     "metadata": {},
     "output_type": "execute_result"
    }
   ],
   "source": [
    "#Now I want to analyze the data.\n",
    "\n",
    "#average length of a MID shift\n",
    "#driver_report.length[driver_report.shiftname.str.contains(mid_shifts)].describe().mean\n",
    "\n"
   ]
  }
 ],
 "metadata": {
  "interpreter": {
   "hash": "b70e567bb8341835f72b7832a6ac841ccbd25199a93f002d4e358ffc004d461d"
  },
  "kernelspec": {
   "display_name": "Python 3.9.10 ('.venv': venv)",
   "language": "python",
   "name": "python3"
  },
  "language_info": {
   "codemirror_mode": {
    "name": "ipython",
    "version": 3
   },
   "file_extension": ".py",
   "mimetype": "text/x-python",
   "name": "python",
   "nbconvert_exporter": "python",
   "pygments_lexer": "ipython3",
   "version": "3.9.10"
  },
  "orig_nbformat": 4
 },
 "nbformat": 4,
 "nbformat_minor": 2
}
